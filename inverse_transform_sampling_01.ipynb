{
 "cells": [
  {
   "cell_type": "code",
   "execution_count": null,
   "metadata": {},
   "outputs": [],
   "source": [
    "# references:\n",
    "# http://aidiary.hatenablog.com/entry/20140622/1403403301"
   ]
  },
  {
   "cell_type": "code",
   "execution_count": 3,
   "metadata": {},
   "outputs": [],
   "source": [
    "%matplotlib inline\n",
    "import numpy as np\n",
    "import scipy.stats\n",
    "import matplotlib.pyplot as plt"
   ]
  },
  {
   "cell_type": "markdown",
   "metadata": {},
   "source": [
    "## 指数分布族における逆変換法\n",
    "\\begin{align}\n",
    "f(x; \\lambda) &= \n",
    "\\left \\{ \\begin{array}{ll}\n",
    "    \\lambda e^{-\\lambda x} & (x \\geq 0) \\\\\n",
    "    0 & (x < 0)\n",
    "\\end{array} \\right. \\\\\n",
    "F(x; \\lambda) &= \\left \\{ \\begin{array}{ll}\n",
    "    1 - e^{-\\lambda x} & (x \\geq 0) \\\\\n",
    "    0 & (x < 0)\n",
    "\\end{array} \\right. \\\\\n",
    "\\end{align}\n",
    "\n",
    "累積分布の逆関数は左辺を$u$と置いて$x$について解けばよい．"
   ]
  },
  {
   "cell_type": "code",
   "execution_count": 40,
   "metadata": {},
   "outputs": [
    {
     "data": {
      "image/png": "[encoded data removed]",
      "text/plain": [
       "<matplotlib.figure.Figure at 0x1fbde128>"
      ]
     },
     "metadata": {},
     "output_type": "display_data"
    }
   ],
   "source": [
    "n_samples = 100000\n",
    "n_bins = 50\n",
    "\n",
    "# sampling from uniform distribution U(0, 1)\n",
    "u = scipy.stats.uniform()\n",
    "u_samples = u.rvs(n_samples)\n",
    "\n",
    "# 逆変換法により，指数分布族に変換する\n",
    "# y = - \\ln (1 - z) / \\lambda\n",
    "lambda_ = 0.8\n",
    "y_samples = - np.log(1 - u_samples) / lambda_\n",
    "\n",
    "#  真の分布\n",
    "rv = scipy.stats.expon(scale=1 / lambda_)\n",
    "x_true = np.linspace(rv.ppf(0.01), rv.ppf(0.99), n_samples)\n",
    "y_true = rv.pdf(x_true)\n",
    "\n",
    "# plot\n",
    "fig, ax = plt.subplots(1, 2)\n",
    "# plot uniform distribution\n",
    "ax[0].hist(u_samples, n_bins, normed=True)\n",
    "ax[0].set_title('uniform distribution')\n",
    "# plot exponential distribution\n",
    "ax[1].hist(y_samples, n_bins, normed=True, range=(0, 6))\n",
    "ax[1].plot(x_true, y_true, 'r-')\n",
    "ax[1].set_title('exponential distribution')\n",
    "\n",
    "plt.show()"
   ]
  }
 ],
 "metadata": {
  "kernelspec": {
   "display_name": "Python 3",
   "language": "python",
   "name": "python3"
  },
  "language_info": {
   "codemirror_mode": {
    "name": "ipython",
    "version": 3
   },
   "file_extension": ".py",
   "mimetype": "text/x-python",
   "name": "python",
   "nbconvert_exporter": "python",
   "pygments_lexer": "ipython3",
   "version": "3.6.4"
  }
 },
 "nbformat": 4,
 "nbformat_minor": 1
}
