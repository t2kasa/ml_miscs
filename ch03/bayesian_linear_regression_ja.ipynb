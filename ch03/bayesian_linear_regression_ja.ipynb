{
 "cells": [
  {
   "cell_type": "markdown",
   "metadata": {},
   "source": [
    "## ベイズ線形回帰\n",
    "\n",
    "詳細は[ベイズ線形回帰 - 理論と実装](http://2kasa.sub.jp/bayesian-linear-regression)をご覧ください。"
   ]
  },
  {
   "cell_type": "code",
   "execution_count": 1,
   "metadata": {},
   "outputs": [],
   "source": [
    "import matplotlib.pyplot as plt\n",
    "import numpy as np\n",
    "%matplotlib inline"
   ]
  },
  {
   "cell_type": "markdown",
   "metadata": {},
   "source": [
    "#### 1次元ガウス分布\n",
    "\n",
    "\\begin{align*}\n",
    "p(x|\\mu, \\sigma^2) = \\frac{1}{(2 \\pi \\sigma^2)^{1 / 2}} \\left\\{ - \\frac{1}{2 \\sigma^2} (x - \\mu)^2 \\right\\}\n",
    "\\end{align*}"
   ]
  },
  {
   "cell_type": "code",
   "execution_count": 2,
   "metadata": {},
   "outputs": [],
   "source": [
    "def gaussian1d_pdf(x, mean, var):\n",
    "    coef = 1 / np.sqrt(2 * np.pi * var)\n",
    "    return coef * np.exp(-(x - mean) ** 2 / (2 * var))"
   ]
  },
  {
   "cell_type": "markdown",
   "metadata": {},
   "source": [
    "#### $\\mathbf{w} \\in \\mathbb{R}^M$の事前分布\n",
    "\n",
    "一般的に事前分布としてのガウス分布は以下のように表せる。\n",
    "\n",
    "\\begin{align*}\n",
    " p(\\mathbf{w}) = \\mathcal{N}(\\mathbf{w}|\\mathbf{m}_0, \\mathbf{S}_0).\n",
    "\\end{align*}\n",
    "\n",
    "しかしここではハイパーパラメータ$\\alpha$を持つ、より単純なガウス分布を用いる。\n",
    "\n",
    "\\begin{align*}\n",
    "p(\\mathbf{w}|\\alpha) = \\mathcal{N}(\\mathbf{w}|\\mathbf{0}, \\alpha^{-1} \\mathbf{I}).\n",
    "\\end{align*}"
   ]
  },
  {
   "cell_type": "code",
   "execution_count": 3,
   "metadata": {},
   "outputs": [],
   "source": [
    "def w_prior(M, alpha):\n",
    "    m_0 = np.zeros(M)\n",
    "    S_0 = (1 / alpha) * np.identity(M)\n",
    "\n",
    "    return m_0, S_0"
   ]
  },
  {
   "cell_type": "markdown",
   "metadata": {},
   "source": [
    "#### $\\mathbf{w}$の事後分布\n",
    "\n",
    "$\\mathbf{w}$の事前分布が$p(\\mathbf{w}) = \\mathcal{N}(\\mathbf{w}|\\mathbf{m}_0, \\mathbf{S}_0)$のとき、事後分布は以下のように表される。\n",
    "\n",
    "\\begin{align*}\n",
    "p(\\mathbf{w}|\\mathrm{X}, \\mathrm{T}, \\beta) &= \\mathcal{N}(\\mathbf{w}|\\mathbf{m}_N, \\mathbf{S}_N)\n",
    "\\end{align*}\n",
    "\n",
    "ここで$\\mathbf{m}_N, \\mathbf{S}_N$は\n",
    "\n",
    "\\begin{align*}\n",
    "\\mathbf{m}_N &= \\mathbf{S}_N^{-1} \\left( \\mathbf{S}_0^{-1} \\mathbf{m}_0 + \\beta \\boldsymbol{\\Phi}^T \\mathbf{t} \\right) \\\\ \n",
    "\\mathbf{S}_N^{-1} &= \\mathbf{S}_0^{-1} + \\beta \\boldsymbol{\\Phi}^T \\boldsymbol{\\Phi} \n",
    "\\end{align*}\n",
    "\n",
    "となる。"
   ]
  },
  {
   "cell_type": "code",
   "execution_count": 4,
   "metadata": {},
   "outputs": [],
   "source": [
    "def w_posterior(t_data, Phi, m_0, S_0, beta):\n",
    "    S_0_inv = np.linalg.inv(S_0)\n",
    "\n",
    "    S_N = np.linalg.inv(S_0_inv + beta * np.dot(Phi.T, Phi))\n",
    "    m_N = S_N.dot(S_0_inv.dot(m_0) + beta * Phi.T.dot(t_data))\n",
    "\n",
    "    return m_N, S_N"
   ]
  },
  {
   "cell_type": "markdown",
   "metadata": {},
   "source": [
    "#### $t$の予測分布\n",
    "\n",
    "$t$の予測分布は\n",
    "\n",
    "\\begin{align*}\n",
    "p(t|\\mathrm{x}, \\mathrm{X}, \\mathrm{T}, \\beta) = \\mathcal{N}(t|\\mathbf{m}_N^T \\boldsymbol{\\phi}(\\mathbf{x}), \\beta^{-1} + \\boldsymbol{\\phi}(\\mathbf{x})^T \\mathbf{S}_N \\boldsymbol{\\phi}(\\mathbf{x})) \n",
    "\\end{align*}\n",
    "\n",
    "となる。"
   ]
  },
  {
   "cell_type": "code",
   "execution_count": 5,
   "metadata": {},
   "outputs": [],
   "source": [
    "def t_predictive(phi, beta, m_N, S_N):\n",
    "    t_mean = np.dot(m_N, phi)\n",
    "    t_var = (1 / beta) + np.dot(phi, np.dot(S_N, phi))\n",
    "\n",
    "    return t_mean, t_var"
   ]
  },
  {
   "cell_type": "markdown",
   "metadata": {},
   "source": [
    "#### 学習データの生成\n",
    "\n",
    "ランダムに学習データを生成する。\n",
    "$x, t$はともに1次元とし、$t$の真の分布は$t = \\sin (2 \\pi x)$とする。\n"
   ]
  },
  {
   "cell_type": "code",
   "execution_count": 6,
   "metadata": {},
   "outputs": [],
   "source": [
    "def positive_or_negative(shape):\n",
    "    return np.sign(np.random.uniform(-1, 1, shape))\n",
    "\n",
    "\n",
    "def generate_1d_x_and_t(N, seed=0):\n",
    "    np.random.seed(seed)\n",
    "\n",
    "    x_data = np.random.uniform(0, 1, N)\n",
    "\n",
    "    t_true = np.sin(2 * np.pi * x_data)\n",
    "    t_noise = 0.05 * np.random.normal(size=N) * positive_or_negative(N)\n",
    "    t_data = t_true + t_noise\n",
    "\n",
    "    return x_data, t_data"
   ]
  },
  {
   "cell_type": "markdown",
   "metadata": {},
   "source": [
    "#### 基底関数集合\n",
    "\n",
    "入力変数$x$が1次元と仮定して、次のような特徴ベクトル$\\boldsymbol{\\phi}(x) \\in \\mathbb{R}^{12}$に特徴変換する。\n",
    "\n",
    "\\begin{align*}\n",
    "\\boldsymbol{\\phi}(x) = \\left[1, \\exp \\left\\{- \\frac{(x + 1)^2}{ 2 \\cdot (0.1)^2} \\right\\}, \\exp \\left\\{- \\frac{(x +0.8)^2}{ 2 \\cdot (0.1)^2} \\right\\}, \\cdots, \\exp \\left\\{- \\frac{(x - 0.8)^2}{ 2 \\cdot (0.1)^2} \\right\\}, \\exp \\left\\{- \\frac{(x - 1)^2}{ 2 \\cdot (0.1)^2} \\right\\} \\right]^T.\n",
    "\\end{align*}"
   ]
  },
  {
   "cell_type": "code",
   "execution_count": 7,
   "metadata": {},
   "outputs": [],
   "source": [
    "def gaussian_basis(x):\n",
    "    mu = np.arange(-1, 1 + 0.2, 0.2)\n",
    "    s = 0.1\n",
    "\n",
    "    numerator = -np.square(x - mu)\n",
    "    denominator = 2 * np.square(s)\n",
    "    \n",
    "    phi = np.append(1, np.exp(numerator / denominator))\n",
    "    return phi"
   ]
  },
  {
   "cell_type": "markdown",
   "metadata": {},
   "source": [
    "#### ハイパーパラメータ\n",
    "\n",
    "\\begin{align*}\n",
    "\\alpha = 0.1 \\\\\n",
    "\\beta = 9.0\n",
    "\\end{align*}\n",
    "とする。"
   ]
  },
  {
   "cell_type": "code",
   "execution_count": 8,
   "metadata": {},
   "outputs": [],
   "source": [
    "alpha = 0.1\n",
    "beta = 9.0"
   ]
  },
  {
   "cell_type": "markdown",
   "metadata": {},
   "source": [
    "#### 予測分布の動作確認"
   ]
  },
  {
   "cell_type": "code",
   "execution_count": 9,
   "metadata": {},
   "outputs": [
    {
     "data": {
      "image/png": "[encoded data removed]",
      "text/plain": [
       "<matplotlib.figure.Figure at 0x4d48898>"
      ]
     },
     "metadata": {},
     "output_type": "display_data"
    }
   ],
   "source": [
    "x_data, t_data = generate_1d_x_and_t(20)\n",
    "Phi = np.array([gaussian_basis(x) for x in x_data])\n",
    "M = Phi.shape[1]\n",
    "\n",
    "# wの事前分布および事後分布\n",
    "m_0, S_0 = w_prior(M, alpha)\n",
    "m_N, S_N = w_posterior(t_data, Phi, m_0, S_0, beta)\n",
    "\n",
    "# 予測分布のプロット\n",
    "x_points = np.arange(-0.3, 1.3, 0.01)\n",
    "t_points = np.arange(-1.5, 1.5, 0.01)\n",
    "Phi_points = np.array([gaussian_basis(x) for x in x_points])\n",
    "t_mean, t_var = zip(*[t_predictive(p, beta, m_N, S_N)\n",
    "                      for p in Phi_points])\n",
    "\n",
    "z = np.array([gaussian1d_pdf(t_points, tm, tv) for tm, tv in\n",
    "              zip(t_mean, t_var)]).T\n",
    "\n",
    "c = plt.contourf(x_points, t_points, z, cmap=plt.get_cmap(\"binary\"))\n",
    "plt.colorbar(c)\n",
    "plt.scatter(x_data, t_data, marker=\"x\", c=\"r\")\n",
    "plt.plot(x_points, t_mean)\n",
    "plt.show()"
   ]
  }
 ],
 "metadata": {
  "kernelspec": {
   "display_name": "Python 3",
   "language": "python",
   "name": "python3"
  },
  "language_info": {
   "codemirror_mode": {
    "name": "ipython",
    "version": 3
   },
   "file_extension": ".py",
   "mimetype": "text/x-python",
   "name": "python",
   "nbconvert_exporter": "python",
   "pygments_lexer": "ipython3",
   "version": "3.6.3"
  }
 },
 "nbformat": 4,
 "nbformat_minor": 1
}
