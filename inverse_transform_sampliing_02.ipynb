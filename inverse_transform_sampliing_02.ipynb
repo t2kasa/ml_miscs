{
 "cells": [
  {
   "cell_type": "code",
   "execution_count": 8,
   "metadata": {},
   "outputs": [],
   "source": [
    "%matplotlib inline\n",
    "import scipy.stats\n",
    "import matplotlib.pyplot as plt\n",
    "import numpy as np"
   ]
  },
  {
   "cell_type": "markdown",
   "metadata": {},
   "source": [
    "# ロジスティック分布における逆変換法\n",
    "\n",
    "\\begin{align}\n",
    "f(x; \\mu, s) &= \\frac{\\exp \\left(- \\frac{x - \\mu}{s} \\right)}{s \\left(1 + \\exp - \\frac{x - \\mu}{s} \\right)^2} = \\frac{1}{4s} \\mathrm{sech}^2 \\left(\\frac{x - \\mu}{2s} \\right) \\\\ \\\\\n",
    "F(x; \\mu, s) &= \\frac{1}{1 + \\exp - \\frac{x - \\mu}{s}} = \\frac{1}{2} + \\frac{1}{2} \\tanh \\left(\\frac{x - \\mu}{s}  \\right)\n",
    "\\end{align}\n",
    "\n",
    "累積分布の左辺を$u$とおいて$x$について解くと\n",
    "\\begin{align}\n",
    "x = \\mu + s \\log \\frac{u}{1 - u}\n",
    "\\end{align}\n",
    "が得られる．"
   ]
  },
  {
   "cell_type": "code",
   "execution_count": 27,
   "metadata": {},
   "outputs": [
    {
     "data": {
      "image/png": "[encoded data removed]",
      "text/plain": [
       "<matplotlib.figure.Figure at 0x1c8f18d0>"
      ]
     },
     "metadata": {},
     "output_type": "display_data"
    }
   ],
   "source": [
    "n_samples = 100000\n",
    "n_bins = 50\n",
    "\n",
    "# 一様分布から n_samples 個のサンプルを得る\n",
    "u_rv = scipy.stats.uniform()\n",
    "u_samples = u_rv.rvs(n_samples)\n",
    "\n",
    "mu = 0.0\n",
    "s = 1.0\n",
    "\n",
    "# 逆変換法により，ロジスティック分布に変換する\n",
    "# x = \\mu + s + log(u / ( 1- u))\n",
    "x_samples = mu + s * np.log(u_samples / (1 - u_samples))\n",
    "\n",
    "logistic_rv = scipy.stats.logistic()\n",
    "\n",
    "fig, ax = plt.subplots(1, 1)\n",
    "\n",
    "u_true = np.linspace(logistic_rv.ppf(0.01), logistic_rv.ppf(0.99), n_samples)\n",
    "x_true = logistic_rv.pdf(u_true)\n",
    "# 逆変換法によって得たサンプルをプロット\n",
    "ax.hist(x_samples, n_bins, normed=True)\n",
    "# 真の分布をプロット\n",
    "ax.plot(u_true, x_true, 'r-', label='logistic pdf')\n",
    "ax.set_xlim((-5, 5))\n",
    "plt.show()"
   ]
  }
 ],
 "metadata": {
  "kernelspec": {
   "display_name": "Python 3",
   "language": "python",
   "name": "python3"
  },
  "language_info": {
   "codemirror_mode": {
    "name": "ipython",
    "version": 3
   },
   "file_extension": ".py",
   "mimetype": "text/x-python",
   "name": "python",
   "nbconvert_exporter": "python",
   "pygments_lexer": "ipython3",
   "version": "3.6.4"
  }
 },
 "nbformat": 4,
 "nbformat_minor": 2
}
